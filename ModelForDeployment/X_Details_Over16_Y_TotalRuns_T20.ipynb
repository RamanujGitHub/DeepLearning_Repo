{
  "nbformat": 4,
  "nbformat_minor": 0,
  "metadata": {
    "colab": {
      "provenance": []
    },
    "kernelspec": {
      "name": "python3",
      "display_name": "Python 3"
    },
    "language_info": {
      "name": "python"
    }
  },
  "cells": [
    {
      "cell_type": "markdown",
      "source": [
        "Adding Over end runs"
      ],
      "metadata": {
        "id": "ftDijQwwQemW"
      }
    },
    {
      "cell_type": "code",
      "execution_count": 1,
      "metadata": {
        "id": "Ugz6sAC3TxL4"
      },
      "outputs": [],
      "source": [
        "# from google.colab import drive\n",
        "# drive.mount('/content/drive')"
      ]
    },
    {
      "cell_type": "code",
      "source": [
        "import pandas as pd\n",
        "import numpy as np\n",
        "import matplotlib.pyplot as plt\n",
        "import seaborn as sns\n",
        "from sklearn.preprocessing import StandardScaler\n",
        "from sklearn.decomposition import PCA\n",
        "from sklearn.model_selection import train_test_split, cross_val_score\n",
        "from sklearn.preprocessing import StandardScaler\n",
        "from sklearn.metrics import r2_score, mean_absolute_error, mean_squared_error\n",
        "from sklearn.linear_model import LinearRegression\n",
        "from sklearn.linear_model import Ridge\n",
        "from sklearn.linear_model import Lasso\n",
        "from sklearn.linear_model import ElasticNet\n",
        "from sklearn.ensemble import RandomForestRegressor\n",
        "from sklearn.svm import SVR\n",
        "from xgboost import XGBRegressor\n",
        "from sklearn.preprocessing import PolynomialFeatures\n",
        "pd.set_option('display.max_rows', None)\n",
        "pd.set_option('display.max_columns', None)"
      ],
      "metadata": {
        "id": "bCla-zA6_jxk"
      },
      "execution_count": 2,
      "outputs": []
    },
    {
      "cell_type": "code",
      "source": [
        "# df= pd.read_csv('/content/drive/MyDrive/Evarcity/Homework-10days/CricDataset_9thJuly-16Over.csv')\n",
        "df= pd.read_csv('https://raw.githubusercontent.com/RamanujGitHub/DeepLearning_Repo/main/Sagarnil/CricDataset_9thJuly-16Over.csv?token=GHSAT0AAAAAACCIJSJKVWTXR553B2RGU7T6ZFXNWMQ')"
      ],
      "metadata": {
        "id": "UCPYl4OLQnwn"
      },
      "execution_count": 3,
      "outputs": []
    },
    {
      "cell_type": "code",
      "source": [
        "# pca_acc = pd.DataFrame(pca_accuracy_all)\n",
        "# sns.set(style='darkgrid')\n",
        "# # Create the line plot using Seaborn\n",
        "# sns.lineplot(x= 0, y= 1, data='pca_acc')\n",
        "# # Add labels and title\n",
        "# plt.xlabel('Number of PCA Components')\n",
        "# plt.ylabel('Accuracy')\n",
        "# plt.title('Accuracy vs. Number of PCA Components')\n",
        "# # Show the plot\n",
        "# plt.show()"
      ],
      "metadata": {
        "id": "-UzvfbK_Len0"
      },
      "execution_count": 4,
      "outputs": []
    },
    {
      "cell_type": "code",
      "source": [
        "pv= pd.pivot_table(data=df, index = ['match_id','total_scores','league_season','league_name','league_gender',\\\n",
        "                     'is_international','match_name','ground_name','home_team_id','away_team_id','match_year'],\\\n",
        "                   columns  = 'over_num',\\\n",
        "                   values = ['runs_scored','total_wickets','fours_scored','sixes_scored','total_wides','total_no_balls','total_byes','total_leg_byes'],\n",
        "                   )\n",
        "\n",
        "\n",
        "pv.columns = pv.columns.map('{0[1]}_Over_{0[0]}'.format)\n",
        "pv2=pv.reset_index()\n",
        "y = pv2['total_scores']\n",
        "pv3 = pv2.drop('total_scores',axis=1)\n",
        "pv3 = pv3.drop('match_id',axis=1)\n",
        "obj=pv3[['league_season',\t'league_name',\t'league_gender',\t'match_name',\t'ground_name']]\n",
        "#pv2 and y\n",
        "from sklearn.preprocessing import LabelEncoder\n",
        "le = LabelEncoder()\n",
        "pvle = pv3.copy()\n",
        "for x in pvle:\n",
        "  pvle[x] = le.fit_transform(pvle[x])\n",
        "\n",
        "scaler = StandardScaler()\n",
        "X_scaled = scaler.fit_transform(pvle)\n",
        "Scaled_df=pd.DataFrame(X_scaled)\n",
        "Scaled_df.columns = pvle.columns\n",
        "#Perform Dimentionality Reduction\n",
        "pca = PCA(n_components=35)\n",
        "X_pca = pca.fit_transform(Scaled_df)\n",
        "X_pca = pd.DataFrame(X_pca)"
      ],
      "metadata": {
        "id": "mbfx5ciRV_jE"
      },
      "execution_count": 5,
      "outputs": []
    },
    {
      "cell_type": "code",
      "source": [
        "Scaled_df.shape"
      ],
      "metadata": {
        "id": "OcKbutvPLilc",
        "colab": {
          "base_uri": "https://localhost:8080/"
        },
        "outputId": "db7cee46-550d-4b10-e493-a8cb7e4657a2"
      },
      "execution_count": 6,
      "outputs": [
        {
          "output_type": "execute_result",
          "data": {
            "text/plain": [
              "(2851, 137)"
            ]
          },
          "metadata": {},
          "execution_count": 6
        }
      ]
    },
    {
      "cell_type": "code",
      "source": [
        "pd.DataFrame(pv3).info()"
      ],
      "metadata": {
        "id": "XQhMm_Kigzh9",
        "colab": {
          "base_uri": "https://localhost:8080/"
        },
        "outputId": "60fa77d7-3856-4804-e316-03cdaecc83c0"
      },
      "execution_count": 7,
      "outputs": [
        {
          "output_type": "stream",
          "name": "stdout",
          "text": [
            "<class 'pandas.core.frame.DataFrame'>\n",
            "RangeIndex: 2851 entries, 0 to 2850\n",
            "Columns: 137 entries, league_season to 16_Over_total_wides\n",
            "dtypes: float64(128), int64(4), object(5)\n",
            "memory usage: 3.0+ MB\n"
          ]
        }
      ]
    },
    {
      "cell_type": "code",
      "source": [
        "models = pd.DataFrame(columns=[\"Model\",\"MAE\",\"MSE\",\"RMSE\",\"R2 Score\",\"RMSE (Cross-Validation)\"])\n",
        "prediction_all = pd.DataFrame()"
      ],
      "metadata": {
        "id": "86LubETX_S52"
      },
      "execution_count": 8,
      "outputs": []
    },
    {
      "cell_type": "code",
      "source": [
        "from sklearn.model_selection import train_test_split\n",
        "X = X_pca.copy()\n",
        "X_train,X_test,y_train,y_test = train_test_split(X,y,test_size = 0.3, shuffle= True, random_state = 42)\n",
        "prediction_all['RealRuns']=y_test"
      ],
      "metadata": {
        "id": "BeuXp1FTp3Tm"
      },
      "execution_count": 9,
      "outputs": []
    },
    {
      "cell_type": "markdown",
      "source": [
        "Defining several evaluation functions for convenience"
      ],
      "metadata": {
        "id": "BCUXwN2B8kHb"
      }
    },
    {
      "cell_type": "code",
      "source": [
        "\n",
        "def rmse_cv(model):\n",
        "    rmse = np.sqrt(-cross_val_score(model, X, y, scoring=\"neg_mean_squared_error\", cv=5)).mean()\n",
        "    return rmse\n",
        "\n",
        "\n",
        "def evaluation(y, predictions):\n",
        "    mae = mean_absolute_error(y, predictions)\n",
        "    mse = mean_squared_error(y, predictions)\n",
        "    rmse = np.sqrt(mean_squared_error(y, predictions))\n",
        "    r_squared = r2_score(y, predictions)\n",
        "    return mae, mse, rmse, r_squared"
      ],
      "metadata": {
        "id": "qZ4fBWtu8act"
      },
      "execution_count": 10,
      "outputs": []
    },
    {
      "cell_type": "markdown",
      "source": [
        "Machine Learning Models"
      ],
      "metadata": {
        "id": "vJCJbAjv8xN9"
      }
    },
    {
      "cell_type": "markdown",
      "source": [
        "Linear Regression"
      ],
      "metadata": {
        "id": "0qjSdjQy82QF"
      }
    },
    {
      "cell_type": "code",
      "source": [
        "lin_reg = LinearRegression()\n",
        "lin_reg.fit(X_train, y_train)\n",
        "predictions = lin_reg.predict(X_test)\n",
        "mae, mse, rmse, r_squared = evaluation(y_test, predictions)\n",
        "print(\"MAE:\", mae)\n",
        "print(\"MSE:\", mse)\n",
        "print(\"RMSE:\", rmse)\n",
        "print(\"R2 Score:\", r_squared)\n",
        "print(\"-\"*30)\n",
        "rmse_cross_val = rmse_cv(lin_reg)\n",
        "print(\"RMSE Cross-Validation:\", rmse_cross_val)\n",
        "\n",
        "\n",
        "new_row = {\"Model\": \"LinearRegression\",\"MAE\": mae, \"MSE\": mse, \"RMSE\": rmse, \"R2 Score\": r_squared, \"RMSE (Cross-Validation)\": rmse_cross_val}\n",
        "models = models.append(new_row, ignore_index=True)\n",
        "prediction_all['LinearRegression']=predictions"
      ],
      "metadata": {
        "id": "CKv_c30k8aVa",
        "colab": {
          "base_uri": "https://localhost:8080/"
        },
        "outputId": "640f5216-11f4-4c16-8a26-50d859474328"
      },
      "execution_count": 11,
      "outputs": [
        {
          "output_type": "stream",
          "name": "stdout",
          "text": [
            "MAE: 10.737364152450583\n",
            "MSE: 189.45761940737083\n",
            "RMSE: 13.764360479418244\n",
            "R2 Score: 0.8397260256681962\n",
            "------------------------------\n",
            "RMSE Cross-Validation: 13.965404197851138\n"
          ]
        },
        {
          "output_type": "stream",
          "name": "stderr",
          "text": [
            "<ipython-input-11-09c027909717>:15: FutureWarning: The frame.append method is deprecated and will be removed from pandas in a future version. Use pandas.concat instead.\n",
            "  models = models.append(new_row, ignore_index=True)\n"
          ]
        }
      ]
    },
    {
      "cell_type": "code",
      "source": [
        "pca_accuracy_all = np.empty((0,2), float)\n",
        "pcas = [1, 2, 3, 4,5,6,7,8,9,10,11,12,13,14]\n",
        "for x in pcas:\n",
        "  pca = PCA(n_components=x)\n",
        "  X_pca = pca.fit_transform(Scaled_df)\n",
        "  X_pca = pd.DataFrame(X_pca)\n",
        "  X = X_pca.copy()\n",
        "  X_train,X_test,y_train,y_test = train_test_split(X,y,test_size = 0.3, shuffle= True, random_state = 42)\n",
        "  lin_reg = LinearRegression()\n",
        "  lin_reg.fit(X_train, y_train)\n",
        "  predictions = lin_reg.predict(X_test)\n",
        "  mae, mse, rmse, r_squared = evaluation(y_test, predictions)\n",
        "  pca_accuracy_all = np.append(pca_accuracy_all,np.array([[x,r_squared*100]]), axis=0)\n",
        "print(pca_accuracy_all)\n"
      ],
      "metadata": {
        "id": "5rDnP8DzVWhj",
        "colab": {
          "base_uri": "https://localhost:8080/"
        },
        "outputId": "c2c7b54b-c549-419f-f070-1d5bed46e1c7"
      },
      "execution_count": 12,
      "outputs": [
        {
          "output_type": "stream",
          "name": "stdout",
          "text": [
            "[[ 1.          2.17160366]\n",
            " [ 2.          6.08525752]\n",
            " [ 3.         61.36820949]\n",
            " [ 4.         66.20955304]\n",
            " [ 5.         72.55797949]\n",
            " [ 6.         73.22077208]\n",
            " [ 7.         74.82666751]\n",
            " [ 8.         76.64623955]\n",
            " [ 9.         76.94092126]\n",
            " [10.         77.32909331]\n",
            " [11.         77.08993188]\n",
            " [12.         77.49220075]\n",
            " [13.         77.35150979]\n",
            " [14.         78.11498618]]\n"
          ]
        }
      ]
    },
    {
      "cell_type": "code",
      "source": [
        "# plt.lineplot(pca_accuracy_all[:, 0], pca_accuracy_all[:, 1], cmap='viridis')\n",
        "# plt.xlabel('PCA Component')\n",
        "# plt.ylabel('Acuracy')\n",
        "# plt.title(f'PCA Components with Accuracy  ')\n",
        "# plt.colorbar(label='Class')\n",
        "# plt.show()"
      ],
      "metadata": {
        "id": "GirvOP-naWY-"
      },
      "execution_count": 13,
      "outputs": []
    },
    {
      "cell_type": "markdown",
      "source": [
        "\n",
        "* MAE: 11.274825060449345\n",
        "* MSE: 207.09421289739922\n",
        "* RMSE: 14.390768321997239\n",
        "* R2 Score: 0.8248061351873422\n",
        "\n",
        "* Create a visualization of no. of PCA components with relation to accuracy"
      ],
      "metadata": {
        "id": "AwIB73sGTlKX"
      }
    },
    {
      "cell_type": "markdown",
      "source": [
        "Ridge Regression"
      ],
      "metadata": {
        "id": "x0DjvLKiAzdt"
      }
    },
    {
      "cell_type": "code",
      "source": [
        "ridge = Ridge()\n",
        "ridge.fit(X_train, y_train)\n",
        "predictions = ridge.predict(X_test)\n",
        "\n",
        "mae, mse, rmse, r_squared = evaluation(y_test, predictions)\n",
        "print(\"MAE:\", mae)\n",
        "print(\"MSE:\", mse)\n",
        "print(\"RMSE:\", rmse)\n",
        "print(\"R2 Score:\", r_squared)\n",
        "print(\"-\"*30)\n",
        "rmse_cross_val = rmse_cv(ridge)\n",
        "print(\"RMSE Cross-Validation:\", rmse_cross_val)\n",
        "\n",
        "new_row = {\"Model\": \"Ridge\",\"MAE\": mae, \"MSE\": mse, \"RMSE\": rmse, \"R2 Score\": r_squared, \"RMSE (Cross-Validation)\": rmse_cross_val}\n",
        "models = models.append(new_row, ignore_index=True)\n",
        "prediction_all['Ridge']=predictions"
      ],
      "metadata": {
        "id": "DcE5MoFF8aTL",
        "colab": {
          "base_uri": "https://localhost:8080/"
        },
        "outputId": "f96fe185-383a-4b3e-f6d0-e0b4a443d878"
      },
      "execution_count": 14,
      "outputs": [
        {
          "output_type": "stream",
          "name": "stdout",
          "text": [
            "MAE: 12.786526833073259\n",
            "MSE: 258.6907944839545\n",
            "RMSE: 16.083867522581578\n",
            "R2 Score: 0.7811573802907068\n",
            "------------------------------\n",
            "RMSE Cross-Validation: 15.75716163203847\n"
          ]
        },
        {
          "output_type": "stream",
          "name": "stderr",
          "text": [
            "<ipython-input-14-1b2467b1c80b>:15: FutureWarning: The frame.append method is deprecated and will be removed from pandas in a future version. Use pandas.concat instead.\n",
            "  models = models.append(new_row, ignore_index=True)\n"
          ]
        }
      ]
    },
    {
      "cell_type": "code",
      "source": [
        "# # Plot the PCA components with accuracy\n",
        "# plt.scatter(X_pca[:, 0], X_pca[:, 1], c=y, cmap='viridis')\n",
        "# plt.xlabel('PCA Component 1')\n",
        "# plt.ylabel('PCA Component 2')\n",
        "# plt.title(f'PCA Components with Accuracy: {accuracy:.2f}')\n",
        "# plt.colorbar(label='Class')\n",
        "# plt.show()"
      ],
      "metadata": {
        "id": "ydD00494WMuY"
      },
      "execution_count": 15,
      "outputs": []
    },
    {
      "cell_type": "code",
      "source": [],
      "metadata": {
        "id": "HpOWH8zdWNQm"
      },
      "execution_count": 15,
      "outputs": []
    },
    {
      "cell_type": "markdown",
      "source": [
        "Lasso Regression"
      ],
      "metadata": {
        "id": "_KmCgGZiA6T8"
      }
    },
    {
      "cell_type": "code",
      "source": [
        "lasso = Lasso()\n",
        "lasso.fit(X_train, y_train)\n",
        "predictions = lasso.predict(X_test)\n",
        "\n",
        "mae, mse, rmse, r_squared = evaluation(y_test, predictions)\n",
        "print(\"MAE:\", mae)\n",
        "print(\"MSE:\", mse)\n",
        "print(\"RMSE:\", rmse)\n",
        "print(\"R2 Score:\", r_squared)\n",
        "print(\"-\"*30)\n",
        "rmse_cross_val = rmse_cv(lasso)\n",
        "print(\"RMSE Cross-Validation:\", rmse_cross_val)\n",
        "\n",
        "new_row = {\"Model\": \"Lasso\",\"MAE\": mae, \"MSE\": mse, \"RMSE\": rmse, \"R2 Score\": r_squared, \"RMSE (Cross-Validation)\": rmse_cross_val}\n",
        "models = models.append(new_row, ignore_index=True)\n",
        "prediction_all['Lasso']=predictions"
      ],
      "metadata": {
        "id": "1DnaKSAR8aQ0",
        "colab": {
          "base_uri": "https://localhost:8080/"
        },
        "outputId": "eb600590-cb6b-4db4-c3fe-cf6106c307f6"
      },
      "execution_count": 16,
      "outputs": [
        {
          "output_type": "stream",
          "name": "stdout",
          "text": [
            "MAE: 12.856164091403214\n",
            "MSE: 263.1413367443284\n",
            "RMSE: 16.22163175344356\n",
            "R2 Score: 0.7773923900082731\n",
            "------------------------------\n",
            "RMSE Cross-Validation: 15.954995824358576\n"
          ]
        },
        {
          "output_type": "stream",
          "name": "stderr",
          "text": [
            "<ipython-input-16-c88898c1af1d>:15: FutureWarning: The frame.append method is deprecated and will be removed from pandas in a future version. Use pandas.concat instead.\n",
            "  models = models.append(new_row, ignore_index=True)\n"
          ]
        }
      ]
    },
    {
      "cell_type": "markdown",
      "source": [
        "Elastic Net"
      ],
      "metadata": {
        "id": "eZXswtKmA9cV"
      }
    },
    {
      "cell_type": "code",
      "source": [
        "elastic_net = ElasticNet()\n",
        "elastic_net.fit(X_train, y_train)\n",
        "predictions = elastic_net.predict(X_test)\n",
        "\n",
        "mae, mse, rmse, r_squared = evaluation(y_test, predictions)\n",
        "print(\"MAE:\", mae)\n",
        "print(\"MSE:\", mse)\n",
        "print(\"RMSE:\", rmse)\n",
        "print(\"R2 Score:\", r_squared)\n",
        "print(\"-\"*30)\n",
        "rmse_cross_val = rmse_cv(elastic_net)\n",
        "print(\"RMSE Cross-Validation:\", rmse_cross_val)\n",
        "\n",
        "new_row = {\"Model\": \"ElasticNet\",\"MAE\": mae, \"MSE\": mse, \"RMSE\": rmse, \"R2 Score\": r_squared, \"RMSE (Cross-Validation)\": rmse_cross_val}\n",
        "models = models.append(new_row, ignore_index=True)\n",
        "prediction_all['ElasticNet']=predictions"
      ],
      "metadata": {
        "id": "T9SmMbLG8aOR",
        "colab": {
          "base_uri": "https://localhost:8080/"
        },
        "outputId": "1309867b-7e7e-4b15-de32-9e8460e360ed"
      },
      "execution_count": 17,
      "outputs": [
        {
          "output_type": "stream",
          "name": "stdout",
          "text": [
            "MAE: 13.138526233805047\n",
            "MSE: 276.4704237772375\n",
            "RMSE: 16.627399790022416\n",
            "R2 Score: 0.7661164869347452\n",
            "------------------------------\n",
            "RMSE Cross-Validation: 16.461298319429098\n"
          ]
        },
        {
          "output_type": "stream",
          "name": "stderr",
          "text": [
            "<ipython-input-17-4ed9d696ff0e>:15: FutureWarning: The frame.append method is deprecated and will be removed from pandas in a future version. Use pandas.concat instead.\n",
            "  models = models.append(new_row, ignore_index=True)\n"
          ]
        }
      ]
    },
    {
      "cell_type": "markdown",
      "source": [
        "Support Vector Machines"
      ],
      "metadata": {
        "id": "Mi9Ix7XdBAt3"
      }
    },
    {
      "cell_type": "code",
      "source": [
        "svr = SVR()\n",
        "svr.fit(X_train, y_train)\n",
        "predictions = svr.predict(X_test)\n",
        "\n",
        "mae, mse, rmse, r_squared = evaluation(y_test, predictions)\n",
        "print(\"MAE:\", mae)\n",
        "print(\"MSE:\", mse)\n",
        "print(\"RMSE:\", rmse)\n",
        "print(\"R2 Score:\", r_squared)\n",
        "print(\"-\"*30)\n",
        "rmse_cross_val = rmse_cv(svr)\n",
        "print(\"RMSE Cross-Validation:\", rmse_cross_val)\n",
        "\n",
        "new_row = {\"Model\": \"SVR\",\"MAE\": mae, \"MSE\": mse, \"RMSE\": rmse, \"R2 Score\": r_squared, \"RMSE (Cross-Validation)\": rmse_cross_val}\n",
        "models = models.append(new_row, ignore_index=True)\n",
        "prediction_all['SVR']=predictions"
      ],
      "metadata": {
        "id": "iG6oxujV8aLw",
        "colab": {
          "base_uri": "https://localhost:8080/"
        },
        "outputId": "502fef8a-6bad-4e71-bf71-6910ca9bc734"
      },
      "execution_count": null,
      "outputs": [
        {
          "output_type": "stream",
          "name": "stdout",
          "text": [
            "MAE: 14.398700400467208\n",
            "MSE: 395.42230856603555\n",
            "RMSE: 19.885228401153345\n",
            "R2 Score: 0.6654876951817659\n",
            "------------------------------\n"
          ]
        }
      ]
    },
    {
      "cell_type": "markdown",
      "source": [
        "Random Forest Regressor"
      ],
      "metadata": {
        "id": "MjQ5lGyxBEAv"
      }
    },
    {
      "cell_type": "code",
      "source": [
        "random_forest = RandomForestRegressor(n_estimators=100)\n",
        "random_forest.fit(X_train, y_train)\n",
        "predictions = random_forest.predict(X_test)\n",
        "\n",
        "mae, mse, rmse, r_squared = evaluation(y_test, predictions)\n",
        "print(\"MAE:\", mae)\n",
        "print(\"MSE:\", mse)\n",
        "print(\"RMSE:\", rmse)\n",
        "print(\"R2 Score:\", r_squared)\n",
        "print(\"-\"*30)\n",
        "rmse_cross_val = rmse_cv(random_forest)\n",
        "print(\"RMSE Cross-Validation:\", rmse_cross_val)\n",
        "\n",
        "new_row = {\"Model\": \"RandomForestRegressor\",\"MAE\": mae, \"MSE\": mse, \"RMSE\": rmse, \"R2 Score\": r_squared, \"RMSE (Cross-Validation)\": rmse_cross_val}\n",
        "models = models.append(new_row, ignore_index=True)\n",
        "prediction_all['RandomForestRegressor']=predictions"
      ],
      "metadata": {
        "id": "QGIyJZZPBDCN"
      },
      "execution_count": null,
      "outputs": []
    },
    {
      "cell_type": "markdown",
      "source": [
        "XGBoost Regressor"
      ],
      "metadata": {
        "id": "JCxxDd86BHH_"
      }
    },
    {
      "cell_type": "code",
      "source": [
        "xgb = XGBRegressor(n_estimators=1000, learning_rate=0.01)\n",
        "xgb.fit(X_train, y_train)\n",
        "predictions = xgb.predict(X_test)\n",
        "\n",
        "mae, mse, rmse, r_squared = evaluation(y_test, predictions)\n",
        "print(\"MAE:\", mae)\n",
        "print(\"MSE:\", mse)\n",
        "print(\"RMSE:\", rmse)\n",
        "print(\"R2 Score:\", r_squared)\n",
        "print(\"-\"*30)\n",
        "rmse_cross_val = rmse_cv(xgb)\n",
        "print(\"RMSE Cross-Validation:\", rmse_cross_val)\n",
        "\n",
        "new_row = {\"Model\": \"XGBRegressor\",\"MAE\": mae, \"MSE\": mse, \"RMSE\": rmse, \"R2 Score\": r_squared, \"RMSE (Cross-Validation)\": rmse_cross_val}\n",
        "models = models.append(new_row, ignore_index=True)\n",
        "prediction_all['XGBRegressor']=predictions"
      ],
      "metadata": {
        "id": "480bmYvB8aG-"
      },
      "execution_count": null,
      "outputs": []
    },
    {
      "cell_type": "markdown",
      "source": [
        "Polynomial Regression (Degree=2)\n"
      ],
      "metadata": {
        "id": "xKIDv5C1BLHn"
      }
    },
    {
      "cell_type": "code",
      "source": [
        "poly_reg = PolynomialFeatures(degree=2)\n",
        "X_train_2d = poly_reg.fit_transform(X_train)\n",
        "X_test_2d = poly_reg.transform(X_test)\n",
        "\n",
        "lin_reg = LinearRegression()\n",
        "lin_reg.fit(X_train_2d, y_train)\n",
        "predictions = lin_reg.predict(X_test_2d)\n",
        "\n",
        "mae, mse, rmse, r_squared = evaluation(y_test, predictions)\n",
        "print(\"MAE:\", mae)\n",
        "print(\"MSE:\", mse)\n",
        "print(\"RMSE:\", rmse)\n",
        "print(\"R2 Score:\", r_squared)\n",
        "print(\"-\"*30)\n",
        "rmse_cross_val = rmse_cv(lin_reg)\n",
        "print(\"RMSE Cross-Validation:\", rmse_cross_val)\n",
        "\n",
        "new_row = {\"Model\": \"Polynomial Regression (degree=2)\",\"MAE\": mae, \"MSE\": mse, \"RMSE\": rmse, \"R2 Score\": r_squared, \"RMSE (Cross-Validation)\": rmse_cross_val}\n",
        "models = models.append(new_row, ignore_index=True)\n",
        "prediction_all['Polynomial Regression (degree=2)']=predictions"
      ],
      "metadata": {
        "id": "nr977fE18aC8"
      },
      "execution_count": null,
      "outputs": []
    },
    {
      "cell_type": "markdown",
      "source": [
        "Model Comparison\n",
        "\n",
        "\n",
        "The less the Root Mean Squared Error (RMSE), The better the model is."
      ],
      "metadata": {
        "id": "izJ0zOHGBQxF"
      }
    },
    {
      "cell_type": "code",
      "source": [
        "models.sort_values(by=\"RMSE (Cross-Validation)\")"
      ],
      "metadata": {
        "id": "d5ou8wcLBPgX"
      },
      "execution_count": null,
      "outputs": []
    },
    {
      "cell_type": "code",
      "source": [
        "models['R2ScorePercentage'] = models['R2 Score'] * 100"
      ],
      "metadata": {
        "id": "3O-AOzTqRUse"
      },
      "execution_count": null,
      "outputs": []
    },
    {
      "cell_type": "code",
      "source": [
        "models"
      ],
      "metadata": {
        "id": "BuwEiLJQR4f6"
      },
      "execution_count": null,
      "outputs": []
    },
    {
      "cell_type": "code",
      "source": [
        "plt.figure(figsize=(12,8))\n",
        "sns.barplot(x=models[\"Model\"], y=models[\"RMSE (Cross-Validation)\"])\n",
        "plt.title(\"Models' RMSE Scores (Cross-Validated)\", size=15)\n",
        "plt.xticks(rotation=30, size=12)\n",
        "plt.show()"
      ],
      "metadata": {
        "id": "dGiPH8C4H0uF"
      },
      "execution_count": null,
      "outputs": []
    },
    {
      "cell_type": "code",
      "source": [
        "\n",
        "pd.set_option('display.max_rows', None)\n",
        "prediction_all[prediction_all['RealRuns']>220]"
      ],
      "metadata": {
        "id": "I1ibBAS0BPa4"
      },
      "execution_count": null,
      "outputs": []
    },
    {
      "cell_type": "code",
      "source": [
        "prediction_all"
      ],
      "metadata": {
        "id": "xOCzxkH8BPXW"
      },
      "execution_count": null,
      "outputs": []
    },
    {
      "cell_type": "markdown",
      "source": [
        "* ENSEMBLE\n",
        "* Combination of several machine learning algorithms\n",
        "* Different merging methodologies:\n",
        "* a) Problem\n",
        "    i) Supervised -> Mean for each row\n",
        "    ii) Unsupervised -> Max Voting (4)\n",
        "* b)\n",
        "\n",
        "CAN Network -> 90%"
      ],
      "metadata": {
        "id": "a85wWyr2Pwvh"
      }
    },
    {
      "cell_type": "code",
      "source": [],
      "metadata": {
        "id": "PwK8KKRX8jhB"
      },
      "execution_count": null,
      "outputs": []
    },
    {
      "cell_type": "code",
      "source": [],
      "metadata": {
        "id": "fiGttxuC8jc6"
      },
      "execution_count": null,
      "outputs": []
    },
    {
      "cell_type": "code",
      "source": [],
      "metadata": {
        "id": "sd75b1kn8jai"
      },
      "execution_count": null,
      "outputs": []
    },
    {
      "cell_type": "code",
      "source": [],
      "metadata": {
        "id": "GYrdmyQt8jXO"
      },
      "execution_count": null,
      "outputs": []
    },
    {
      "cell_type": "code",
      "source": [],
      "metadata": {
        "id": "m-h3-BPT8jTn"
      },
      "execution_count": null,
      "outputs": []
    },
    {
      "cell_type": "code",
      "source": [],
      "metadata": {
        "id": "iWvJ1yCy8jPs"
      },
      "execution_count": null,
      "outputs": []
    },
    {
      "cell_type": "code",
      "source": [],
      "metadata": {
        "id": "7PwVPQco3H2t"
      },
      "execution_count": null,
      "outputs": []
    },
    {
      "cell_type": "code",
      "source": [],
      "metadata": {
        "id": "WYjLLgMNd5Bs"
      },
      "execution_count": null,
      "outputs": []
    },
    {
      "cell_type": "markdown",
      "source": [],
      "metadata": {
        "id": "DXB3HaIad4z3"
      }
    }
  ]
}